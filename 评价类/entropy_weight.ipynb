{
 "cells": [
  {
   "cell_type": "code",
   "execution_count": 1,
   "id": "24b6315e",
   "metadata": {},
   "outputs": [
    {
     "name": "stdout",
     "output_type": "stream",
     "text": [
      "语文    0.100673\n",
      "数学    0.099919\n",
      "物理    0.070044\n",
      "化学    0.214087\n",
      "英语    0.068080\n",
      "政治    0.127126\n",
      "生物    0.136576\n",
      "历史    0.183496\n",
      "dtype: float64\n"
     ]
    },
    {
     "name": "stderr",
     "output_type": "stream",
     "text": [
      "D:\\Anaconda3\\envs\\PyTorch\\lib\\site-packages\\pandas\\core\\internals\\blocks.py:351: RuntimeWarning: divide by zero encountered in log\n",
      "  result = func(self.values, **kwargs)\n"
     ]
    }
   ],
   "source": [
    "import pandas as pd\n",
    "import numpy as np\n",
    "\n",
    "# 从Excel文件中读取数据\n",
    "df = pd.read_excel('data/成绩.xlsx', index_col='学生编号')\n",
    "\n",
    "# 数据标准化处理（这里使用的是线性变换的方法，即归一化处理）\n",
    "df_normalized = (df - df.min()) / (df.max() - df.min())\n",
    "\n",
    "# 计算指标的比重\n",
    "proportions = df_normalized / df_normalized.sum()\n",
    "\n",
    "# 计算指标的熵值\n",
    "e = (-1/np.log(len(df))) * (proportions * np.log(proportions)).sum()\n",
    "\n",
    "# 计算指标的差异系数\n",
    "d = 1 - e\n",
    "\n",
    "# 计算指标权重\n",
    "weights = d / d.sum()\n",
    "\n",
    "print(weights)\n"
   ]
  },
  {
   "cell_type": "code",
   "execution_count": 3,
   "id": "fa2c510b",
   "metadata": {},
   "outputs": [
    {
     "name": "stdout",
     "output_type": "stream",
     "text": [
      "最优秀的学生编号是：9\n",
      "语文      99.000000\n",
      "数学      92.000000\n",
      "物理      86.000000\n",
      "化学      98.000000\n",
      "英语      89.000000\n",
      "政治      83.000000\n",
      "生物      66.000000\n",
      "历史      85.000000\n",
      "综合得分     0.678353\n",
      "Name: 9, dtype: float64\n"
     ]
    }
   ],
   "source": [
    "import pandas as pd\n",
    "import numpy as np\n",
    "\n",
    "# 从Excel文件中读取数据\n",
    "df = pd.read_excel('data/成绩.xlsx', index_col='学生编号')\n",
    "\n",
    "# 数据标准化处理（这里使用的是线性变换的方法，即归一化处理）\n",
    "df_normalized = (df - df.min()) / (df.max() - df.min())\n",
    "\n",
    "# 计算指标的比重\n",
    "proportions = df_normalized / df_normalized.sum()\n",
    "\n",
    "# 防止比重为0时log(0)为负无穷，用一个非常小的正数替换0\n",
    "proportions = proportions.replace(0, 1e-9)\n",
    "\n",
    "# 计算指标的熵值\n",
    "e = (-1/np.log(len(df))) * (proportions * np.log(proportions)).sum()\n",
    "\n",
    "# 计算指标的差异系数\n",
    "d = 1 - e\n",
    "\n",
    "# 计算指标权重\n",
    "weights = d / d.sum()\n",
    "\n",
    "# 计算每个学生的加权得分\n",
    "df['综合得分'] = df_normalized.dot(weights)\n",
    "\n",
    "# 找出综合得分最高的学生\n",
    "best_student = df['综合得分'].idxmax()\n",
    "\n",
    "print(f\"最优秀的学生编号是：{best_student}\")\n",
    "print(df.loc[best_student])\n"
   ]
  },
  {
   "cell_type": "code",
   "execution_count": null,
   "id": "fe77c2d7",
   "metadata": {},
   "outputs": [],
   "source": []
  }
 ],
 "metadata": {
  "kernelspec": {
   "display_name": "Python [conda env:PyTorch]",
   "language": "python",
   "name": "conda-env-PyTorch-py"
  },
  "language_info": {
   "codemirror_mode": {
    "name": "ipython",
    "version": 3
   },
   "file_extension": ".py",
   "mimetype": "text/x-python",
   "name": "python",
   "nbconvert_exporter": "python",
   "pygments_lexer": "ipython3",
   "version": "3.8.16"
  }
 },
 "nbformat": 4,
 "nbformat_minor": 5
}
